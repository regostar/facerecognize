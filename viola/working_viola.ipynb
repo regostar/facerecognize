{
 "cells": [
  {
   "cell_type": "code",
   "execution_count": 4,
   "metadata": {
    "collapsed": true
   },
   "outputs": [],
   "source": [
    "'''  \n",
    "viola jones algo\n",
    "\n",
    "'''\n",
    "\n",
    "import cv2\n",
    "\n",
    "def facechop(image):  \n",
    "    facedata = \"haarcascade_frontalface_default.xml\"\n",
    "    cascade = cv2.CascadeClassifier(facedata)\n",
    "\n",
    "    img = cv2.imread(image)\n",
    "\n",
    "    #minisize = (img.shape[1],img.shape[0])\n",
    "    #miniframe = cv2.resize(img, minisize)\n",
    "\n",
    "    faces = cascade.detectMultiScale(img)\n",
    "\n",
    "    for f in faces:\n",
    "        x, y, w, h = [ v for v in f ]\n",
    "        cv2.rectangle(img, (x,y), (x+w,y+h), (255,255,255))\n",
    "\n",
    "        sub_face = img[y:y+h, x:x+w]\n",
    "        face_file_name =\"face\"+str(y) + \".jpg\"\n",
    "        cv2.imwrite(face_file_name, sub_face)\n",
    "\n",
    "    cv2.imshow(image, img)\n",
    "    cv2.waitKey(0)\n",
    "    cv2.destroyAllWindows()\n",
    "\n",
    "    return\n",
    "\n",
    "facechop(\"Picture1.jpg\")"
   ]
  },
  {
   "cell_type": "code",
   "execution_count": null,
   "metadata": {
    "collapsed": true
   },
   "outputs": [],
   "source": []
  }
 ],
 "metadata": {
  "kernelspec": {
   "display_name": "Python 3",
   "language": "python",
   "name": "python3"
  },
  "language_info": {
   "codemirror_mode": {
    "name": "ipython",
    "version": 3
   },
   "file_extension": ".py",
   "mimetype": "text/x-python",
   "name": "python",
   "nbconvert_exporter": "python",
   "pygments_lexer": "ipython3",
   "version": "3.6.3"
  }
 },
 "nbformat": 4,
 "nbformat_minor": 2
}
